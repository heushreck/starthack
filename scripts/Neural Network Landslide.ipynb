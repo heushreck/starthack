{
 "cells": [
  {
   "cell_type": "code",
   "execution_count": 577,
   "metadata": {},
   "outputs": [],
   "source": [
    "# Import libraries\n",
    "import pandas as pd\n",
    "import numpy as np\n",
    "import matplotlib.pyplot as plt\n",
    "import seaborn as sns\n",
    "from sklearn.metrics import f1_score, classification_report,confusion_matrix, ConfusionMatrixDisplay\n",
    "from sklearn.model_selection import train_test_split\n",
    "from sklearn.ensemble import RandomForestClassifier\n",
    "pd.set_option('display.max_columns', None)\n",
    "import warnings\n",
    "warnings.filterwarnings('ignore')\n",
    "import numpy as np\n",
    "import pandas as pd\n",
    "import seaborn as sns\n",
    "import matplotlib.pyplot as plt\n",
    "\n",
    "import torch\n",
    "import torch.nn as nn\n",
    "import torch.optim as optim\n",
    "from torch.utils.data import Dataset, DataLoader\n",
    "\n",
    "from sklearn.preprocessing import StandardScaler    \n",
    "from sklearn.model_selection import train_test_split\n",
    "from sklearn.metrics import confusion_matrix, classification_report\n",
    "from imblearn.over_sampling import SMOTE"
   ]
  },
  {
   "cell_type": "code",
   "execution_count": 642,
   "metadata": {},
   "outputs": [],
   "source": [
    "# Read files to pandas dataframes\n",
    "train = pd.read_csv('new_df.csv')\n",
    "test = pd.read_csv('new_test.csv')"
   ]
  },
  {
   "cell_type": "code",
   "execution_count": 643,
   "metadata": {},
   "outputs": [
    {
     "data": {
      "text/plain": [
       "array(['ABSOLUTE(placurv)', 'aspect + slope_x_twi',\n",
       "       'elevation + slope_var', 'elevation + slope_x_twi',\n",
       "       'elevation_bins + rel_sdoif', 'elevation_bins + slope_x_twi',\n",
       "       'elevation_var + slope_var', 'geology + placurv',\n",
       "       'geology + procurv', 'geology + rel_sdoif', 'geology + sdoif',\n",
       "       'placurv + ring1_elevation', 'placurv + sdoif',\n",
       "       'procurv + ring1_elevation', 'procurv + sdoif',\n",
       "       'ring1_elevation + sdoif', 'sdoif + weathered',\n",
       "       'slope + slope_x_twi', 'aspect * procurv', 'aspect * slope_var',\n",
       "       'aspect * slope_x_twi', 'elevation * elevation_dif',\n",
       "       'elevation * geology', 'elevation * sdoif',\n",
       "       'elevation * slope_x_twi', 'elevation_bins * slope_var',\n",
       "       'elevation_bins * slope_x_twi', 'elevation_dif * sdoif',\n",
       "       'elevation_var * geology', 'elevation_var * placurv',\n",
       "       'elevation_var * sdoif', 'elevation_var * slope_var',\n",
       "       'elevation_var * weathered', 'geology * sdoif',\n",
       "       'geology * slope_x_twi', 'geology * weathered',\n",
       "       'placurv * slope_var', 'placurv * slope_x_twi',\n",
       "       'rel_sdoif * ring1_elevation', 'ring1_elevation * sdoif',\n",
       "       'ring1_elevation * slope_var', 'sdoif * slope_x_twi',\n",
       "       'sdoif * weathered', 'slope_var * weathered',\n",
       "       'NATURAL_LOGARITHM(sdoif_var)', 'SQUARE_ROOT(sdoif_var)', 'Label',\n",
       "       'Sample_ID'], dtype=object)"
      ]
     },
     "execution_count": 643,
     "metadata": {},
     "output_type": "execute_result"
    }
   ],
   "source": [
    "train.columns.values"
   ]
  },
  {
   "cell_type": "code",
   "execution_count": 644,
   "metadata": {},
   "outputs": [],
   "source": [
    "cols = ['Sample_ID', 'ABSOLUTE(placurv)', 'aspect + slope_x_twi',\n",
    "       'elevation + slope_var', 'elevation + slope_x_twi',\n",
    "       'elevation_bins + rel_sdoif', 'elevation_bins + slope_x_twi',\n",
    "       'elevation_var + slope_var', 'geology + placurv',\n",
    "       'geology + procurv', 'geology + rel_sdoif', 'geology + sdoif',\n",
    "       'placurv + ring1_elevation', 'placurv + sdoif',\n",
    "       'procurv + ring1_elevation', 'procurv + sdoif',\n",
    "       'ring1_elevation + sdoif', 'sdoif + weathered',\n",
    "       'slope + slope_x_twi', 'aspect * procurv', 'aspect * slope_var',\n",
    "       'aspect * slope_x_twi', 'elevation * elevation_dif',\n",
    "       'elevation * geology', 'elevation * sdoif',\n",
    "       'elevation * slope_x_twi', \n",
    "       'elevation_bins * slope_x_twi', 'elevation_dif * sdoif',\n",
    "       'elevation_var * geology', 'elevation_var * placurv',\n",
    "       'elevation_var * sdoif', 'elevation_var * slope_var',\n",
    "       'elevation_var * weathered', 'geology * sdoif',\n",
    "       'geology * slope_x_twi', 'geology * weathered',\n",
    "       'placurv * slope_var', 'placurv * slope_x_twi',\n",
    "       'rel_sdoif * ring1_elevation', 'ring1_elevation * sdoif',\n",
    "       'ring1_elevation * slope_var', 'sdoif * slope_x_twi',\n",
    "       'sdoif * weathered', 'slope_var * weathered',\n",
    "       'NATURAL_LOGARITHM(sdoif_var)', 'SQUARE_ROOT(sdoif_var)', 'Label']\n",
    "\n",
    "train = train[cols]\n",
    "cols.remove('Label')\n",
    "test = test[cols]\n",
    "\n",
    "df = train"
   ]
  },
  {
   "cell_type": "code",
   "execution_count": 326,
   "metadata": {},
   "outputs": [],
   "source": [
    "train.to_csv('train_agg_with_dummy.csv', index = False)\n",
    "test.to_csv('test_agg_with_dummy.csv', index = False)"
   ]
  },
  {
   "cell_type": "code",
   "execution_count": 525,
   "metadata": {},
   "outputs": [
    {
     "data": {
      "text/plain": [
       "<matplotlib.axes._subplots.AxesSubplot at 0x7f81d0122210>"
      ]
     },
     "execution_count": 525,
     "metadata": {},
     "output_type": "execute_result"
    },
    {
     "data": {
      "image/png": "[encoded data removed]",
      "text/plain": [
       "<Figure size 432x288 with 1 Axes>"
      ]
     },
     "metadata": {
      "needs_background": "light"
     },
     "output_type": "display_data"
    }
   ],
   "source": [
    "sns.countplot(x = 'Label', data=df)"
   ]
  },
  {
   "cell_type": "code",
   "execution_count": 526,
   "metadata": {},
   "outputs": [
    {
     "name": "stdout",
     "output_type": "stream",
     "text": [
      "length of oversampled data is  11378\n",
      "Number of no landslides in oversampled data 5689\n",
      "Number of landslides 5689\n",
      "Proportion of no landslides data in oversampled data is  0.5\n",
      "Proportion of landslides data in oversampled data is  0.5\n"
     ]
    }
   ],
   "source": [
    "X = df.iloc[:, 1:-1]\n",
    "y = df.iloc[:, -1]\n",
    "\n",
    "\n",
    "os = SMOTE(random_state=0)\n",
    "X_train, X_test, y_train, y_test = train_test_split(X, y, test_size=0.3, random_state=0)\n",
    "columns = X_train.columns\n",
    "os_data_X,os_data_y=os.fit_resample(X_train, y_train)\n",
    "os_data_X = pd.DataFrame(data=os_data_X,columns=columns )\n",
    "os_data_y= pd.DataFrame(data=os_data_y,columns=['Label'])\n",
    "# we can Check the numbers of our data\n",
    "print(\"length of oversampled data is \",len(os_data_X))\n",
    "print(\"Number of no landslides in oversampled data\",len(os_data_y[os_data_y['Label']==0]))\n",
    "print(\"Number of landslides\",len(os_data_y[os_data_y['Label']==1]))\n",
    "print(\"Proportion of no landslides data in oversampled data is \",len(os_data_y[os_data_y['Label']==0])/len(os_data_X))\n",
    "print(\"Proportion of landslides data in oversampled data is \",len(os_data_y[os_data_y['Label']==1])/len(os_data_X))"
   ]
  },
  {
   "cell_type": "code",
   "execution_count": 527,
   "metadata": {},
   "outputs": [],
   "source": [
    "#X = df.iloc[:, 1:-1]\n",
    "#y = df.iloc[:, -1]\n",
    "data_final_vars=df.columns.values.tolist()\n",
    "y = ['Sample_ID', 'Label']\n",
    "cols=[i for i in df if i not in y] \n",
    "X=os_data_X[cols]\n",
    "y=os_data_y['Label']"
   ]
  },
  {
   "cell_type": "code",
   "execution_count": 528,
   "metadata": {},
   "outputs": [],
   "source": [
    "#X = df.iloc[:, 1:-1]\n",
    "#y = df.iloc[:, -1]"
   ]
  },
  {
   "cell_type": "code",
   "execution_count": 529,
   "metadata": {},
   "outputs": [],
   "source": [
    "X_train, X_test, y_train, y_test = train_test_split(X, y, test_size=0.30, random_state=69)"
   ]
  },
  {
   "cell_type": "code",
   "execution_count": 530,
   "metadata": {},
   "outputs": [],
   "source": [
    "main_cols = train.columns.difference(['Sample_ID', 'Label'])\n",
    "test_df = test[main_cols]"
   ]
  },
  {
   "cell_type": "code",
   "execution_count": 531,
   "metadata": {},
   "outputs": [],
   "source": [
    "test_df = test_df[list(X_test.columns.values)]"
   ]
  },
  {
   "cell_type": "code",
   "execution_count": 532,
   "metadata": {},
   "outputs": [],
   "source": [
    "scaler = StandardScaler()\n",
    "X_train = scaler.fit_transform(X_train)\n",
    "X_test = scaler.transform(X_test)"
   ]
  },
  {
   "cell_type": "code",
   "execution_count": 533,
   "metadata": {},
   "outputs": [],
   "source": [
    "test_array_scaled = scaler.transform(test_df)"
   ]
  },
  {
   "cell_type": "code",
   "execution_count": 535,
   "metadata": {},
   "outputs": [],
   "source": [
    "EPOCHS = 100\n",
    "BATCH_SIZE = 64\n",
    "LEARNING_RATE = 0.001"
   ]
  },
  {
   "cell_type": "code",
   "execution_count": 536,
   "metadata": {},
   "outputs": [],
   "source": [
    "## train data\n",
    "class TrainData(Dataset):\n",
    "    \n",
    "    def __init__(self, X_data, y_data):\n",
    "        self.X_data = X_data\n",
    "        self.y_data = y_data\n",
    "        \n",
    "    def __getitem__(self, index):\n",
    "        return self.X_data[index], self.y_data[index]\n",
    "        \n",
    "    def __len__ (self):\n",
    "        return len(self.X_data)\n",
    "\n",
    "\n",
    "train_data = TrainData(torch.FloatTensor(X_train), torch.FloatTensor(y_train.values))\n",
    "## test data    \n",
    "class TestData(Dataset):\n",
    "    \n",
    "    def __init__(self, X_data):\n",
    "        self.X_data = X_data\n",
    "        \n",
    "    def __getitem__(self, index):\n",
    "        return self.X_data[index]\n",
    "        \n",
    "    def __len__ (self):\n",
    "        return len(self.X_data)\n",
    "    \n",
    "\n",
    "test_data = TestData(torch.FloatTensor(X_test))"
   ]
  },
  {
   "cell_type": "code",
   "execution_count": 537,
   "metadata": {},
   "outputs": [],
   "source": [
    "train_loader = DataLoader(dataset=train_data, batch_size=BATCH_SIZE, shuffle=True)\n",
    "test_loader = DataLoader(dataset=test_data, batch_size=1)"
   ]
  },
  {
   "cell_type": "code",
   "execution_count": 538,
   "metadata": {},
   "outputs": [],
   "source": [
    "real_test_data = TestData(torch.FloatTensor(test_array_scaled))\n",
    "real_test_loader = DataLoader(dataset=real_test_data, batch_size=1)"
   ]
  },
  {
   "cell_type": "code",
   "execution_count": 544,
   "metadata": {},
   "outputs": [],
   "source": [
    "class BinaryClassification(nn.Module):\n",
    "    def __init__(self):\n",
    "        super(BinaryClassification, self).__init__()\n",
    "        # Number of input features is 11.\n",
    "        self.layer_1 = nn.Linear(46, 64) \n",
    "        self.layer_2 = nn.Linear(64, 64)\n",
    "        self.layer_out = nn.Linear(64, 1) \n",
    "        \n",
    "        self.relu = nn.ReLU()\n",
    "        self.dropout = nn.Dropout(p=0.5)\n",
    "        self.batchnorm1 = nn.BatchNorm1d(64)\n",
    "        self.batchnorm2 = nn.BatchNorm1d(64)\n",
    "        \n",
    "    def forward(self, inputs):\n",
    "        x = self.relu(self.layer_1(inputs))\n",
    "        x = self.batchnorm1(x)\n",
    "        x = self.relu(self.layer_2(x))\n",
    "        x = self.batchnorm2(x)\n",
    "        x = self.dropout(x)\n",
    "        x = self.layer_out(x)\n",
    "        \n",
    "        return x"
   ]
  },
  {
   "cell_type": "code",
   "execution_count": 545,
   "metadata": {},
   "outputs": [
    {
     "name": "stdout",
     "output_type": "stream",
     "text": [
      "cpu\n"
     ]
    }
   ],
   "source": [
    "device = torch.device(\"cuda:0\" if torch.cuda.is_available() else \"cpu\")\n",
    "print(device)"
   ]
  },
  {
   "cell_type": "code",
   "execution_count": 546,
   "metadata": {},
   "outputs": [
    {
     "name": "stdout",
     "output_type": "stream",
     "text": [
      "BinaryClassification(\n",
      "  (layer_1): Linear(in_features=46, out_features=64, bias=True)\n",
      "  (layer_2): Linear(in_features=64, out_features=64, bias=True)\n",
      "  (layer_out): Linear(in_features=64, out_features=1, bias=True)\n",
      "  (relu): ReLU()\n",
      "  (dropout): Dropout(p=0.5, inplace=False)\n",
      "  (batchnorm1): BatchNorm1d(64, eps=1e-05, momentum=0.1, affine=True, track_running_stats=True)\n",
      "  (batchnorm2): BatchNorm1d(64, eps=1e-05, momentum=0.1, affine=True, track_running_stats=True)\n",
      ")\n"
     ]
    }
   ],
   "source": [
    "model = BinaryClassification()\n",
    "model.to(device)\n",
    "print(model)\n",
    "criterion = nn.BCEWithLogitsLoss()\n",
    "optimizer = optim.Adam(model.parameters(), lr=LEARNING_RATE)"
   ]
  },
  {
   "cell_type": "code",
   "execution_count": 547,
   "metadata": {},
   "outputs": [],
   "source": [
    "def binary_acc(y_pred, y_test):\n",
    "    y_pred_tag = torch.round(torch.sigmoid(y_pred))\n",
    "\n",
    "    correct_results_sum = (y_pred_tag == y_test).sum().float()\n",
    "    acc = correct_results_sum/y_test.shape[0]\n",
    "    acc = torch.round(acc * 100)\n",
    "    \n",
    "    return acc"
   ]
  },
  {
   "cell_type": "code",
   "execution_count": 548,
   "metadata": {},
   "outputs": [
    {
     "name": "stdout",
     "output_type": "stream",
     "text": [
      "Epoch 001: | Loss: 0.48129 | Acc: 77.096\n",
      "Epoch 002: | Loss: 0.41951 | Acc: 80.784\n",
      "Epoch 003: | Loss: 0.40620 | Acc: 81.760\n",
      "Epoch 004: | Loss: 0.39663 | Acc: 82.216\n",
      "Epoch 005: | Loss: 0.38835 | Acc: 82.184\n",
      "Epoch 006: | Loss: 0.38409 | Acc: 82.648\n",
      "Epoch 007: | Loss: 0.37409 | Acc: 83.696\n",
      "Epoch 008: | Loss: 0.36999 | Acc: 83.832\n",
      "Epoch 009: | Loss: 0.36421 | Acc: 83.792\n",
      "Epoch 010: | Loss: 0.35650 | Acc: 84.504\n",
      "Epoch 011: | Loss: 0.35776 | Acc: 84.736\n",
      "Epoch 012: | Loss: 0.35171 | Acc: 84.248\n",
      "Epoch 013: | Loss: 0.34745 | Acc: 84.768\n",
      "Epoch 014: | Loss: 0.35008 | Acc: 84.800\n",
      "Epoch 015: | Loss: 0.34542 | Acc: 85.184\n",
      "Epoch 016: | Loss: 0.34708 | Acc: 84.744\n",
      "Epoch 017: | Loss: 0.34937 | Acc: 84.960\n",
      "Epoch 018: | Loss: 0.33504 | Acc: 86.224\n",
      "Epoch 019: | Loss: 0.33110 | Acc: 85.616\n",
      "Epoch 020: | Loss: 0.33614 | Acc: 85.304\n",
      "Epoch 021: | Loss: 0.33101 | Acc: 85.520\n",
      "Epoch 022: | Loss: 0.33580 | Acc: 85.312\n",
      "Epoch 023: | Loss: 0.33093 | Acc: 85.440\n",
      "Epoch 024: | Loss: 0.32975 | Acc: 85.344\n",
      "Epoch 025: | Loss: 0.32364 | Acc: 86.072\n",
      "Epoch 026: | Loss: 0.32440 | Acc: 86.192\n",
      "Epoch 027: | Loss: 0.32395 | Acc: 85.784\n",
      "Epoch 028: | Loss: 0.31732 | Acc: 86.040\n",
      "Epoch 029: | Loss: 0.31406 | Acc: 86.792\n",
      "Epoch 030: | Loss: 0.31122 | Acc: 86.864\n",
      "Epoch 031: | Loss: 0.30444 | Acc: 86.984\n",
      "Epoch 032: | Loss: 0.30821 | Acc: 86.848\n",
      "Epoch 033: | Loss: 0.31467 | Acc: 86.352\n",
      "Epoch 034: | Loss: 0.31041 | Acc: 86.328\n",
      "Epoch 035: | Loss: 0.30583 | Acc: 87.008\n",
      "Epoch 036: | Loss: 0.30984 | Acc: 86.784\n",
      "Epoch 037: | Loss: 0.30654 | Acc: 87.176\n",
      "Epoch 038: | Loss: 0.29799 | Acc: 87.408\n",
      "Epoch 039: | Loss: 0.29966 | Acc: 86.992\n",
      "Epoch 040: | Loss: 0.30050 | Acc: 87.088\n",
      "Epoch 041: | Loss: 0.30134 | Acc: 87.336\n",
      "Epoch 042: | Loss: 0.30290 | Acc: 87.272\n",
      "Epoch 043: | Loss: 0.29553 | Acc: 87.816\n",
      "Epoch 044: | Loss: 0.29407 | Acc: 87.632\n",
      "Epoch 045: | Loss: 0.28396 | Acc: 88.160\n",
      "Epoch 046: | Loss: 0.28936 | Acc: 88.000\n",
      "Epoch 047: | Loss: 0.29014 | Acc: 87.792\n",
      "Epoch 048: | Loss: 0.28403 | Acc: 87.872\n",
      "Epoch 049: | Loss: 0.28275 | Acc: 88.288\n",
      "Epoch 050: | Loss: 0.28348 | Acc: 88.208\n",
      "Epoch 051: | Loss: 0.27468 | Acc: 88.416\n",
      "Epoch 052: | Loss: 0.27464 | Acc: 88.632\n",
      "Epoch 053: | Loss: 0.28382 | Acc: 88.224\n",
      "Epoch 054: | Loss: 0.27855 | Acc: 88.072\n",
      "Epoch 055: | Loss: 0.28031 | Acc: 87.840\n",
      "Epoch 056: | Loss: 0.27748 | Acc: 88.184\n",
      "Epoch 057: | Loss: 0.27691 | Acc: 88.424\n",
      "Epoch 058: | Loss: 0.27504 | Acc: 88.312\n",
      "Epoch 059: | Loss: 0.26943 | Acc: 88.368\n",
      "Epoch 060: | Loss: 0.27464 | Acc: 88.344\n",
      "Epoch 061: | Loss: 0.27670 | Acc: 88.800\n",
      "Epoch 062: | Loss: 0.27220 | Acc: 88.736\n",
      "Epoch 063: | Loss: 0.26967 | Acc: 88.992\n",
      "Epoch 064: | Loss: 0.26946 | Acc: 88.560\n",
      "Epoch 065: | Loss: 0.27162 | Acc: 88.792\n",
      "Epoch 066: | Loss: 0.27103 | Acc: 88.504\n",
      "Epoch 067: | Loss: 0.27276 | Acc: 88.440\n",
      "Epoch 068: | Loss: 0.26313 | Acc: 89.160\n",
      "Epoch 069: | Loss: 0.27153 | Acc: 88.664\n",
      "Epoch 070: | Loss: 0.27241 | Acc: 88.480\n",
      "Epoch 071: | Loss: 0.26473 | Acc: 88.944\n",
      "Epoch 072: | Loss: 0.26307 | Acc: 89.328\n",
      "Epoch 073: | Loss: 0.25752 | Acc: 89.224\n",
      "Epoch 074: | Loss: 0.25682 | Acc: 89.344\n",
      "Epoch 075: | Loss: 0.25587 | Acc: 89.168\n",
      "Epoch 076: | Loss: 0.25787 | Acc: 89.160\n",
      "Epoch 077: | Loss: 0.26067 | Acc: 89.240\n",
      "Epoch 078: | Loss: 0.25354 | Acc: 89.176\n",
      "Epoch 079: | Loss: 0.26179 | Acc: 88.936\n",
      "Epoch 080: | Loss: 0.25262 | Acc: 89.432\n",
      "Epoch 081: | Loss: 0.25773 | Acc: 89.384\n",
      "Epoch 082: | Loss: 0.24940 | Acc: 89.672\n",
      "Epoch 083: | Loss: 0.26060 | Acc: 89.248\n",
      "Epoch 084: | Loss: 0.25654 | Acc: 89.504\n",
      "Epoch 085: | Loss: 0.24573 | Acc: 89.472\n",
      "Epoch 086: | Loss: 0.25504 | Acc: 89.240\n",
      "Epoch 087: | Loss: 0.25418 | Acc: 89.320\n",
      "Epoch 088: | Loss: 0.25027 | Acc: 89.704\n",
      "Epoch 089: | Loss: 0.24652 | Acc: 90.240\n",
      "Epoch 090: | Loss: 0.24650 | Acc: 90.288\n",
      "Epoch 091: | Loss: 0.25164 | Acc: 89.800\n",
      "Epoch 092: | Loss: 0.25171 | Acc: 89.552\n",
      "Epoch 093: | Loss: 0.24464 | Acc: 89.920\n",
      "Epoch 094: | Loss: 0.24503 | Acc: 89.440\n",
      "Epoch 095: | Loss: 0.23890 | Acc: 89.680\n",
      "Epoch 096: | Loss: 0.25103 | Acc: 89.728\n",
      "Epoch 097: | Loss: 0.24703 | Acc: 89.584\n",
      "Epoch 098: | Loss: 0.24463 | Acc: 89.496\n",
      "Epoch 099: | Loss: 0.25102 | Acc: 89.464\n",
      "Epoch 100: | Loss: 0.24410 | Acc: 89.856\n"
     ]
    }
   ],
   "source": [
    "model.train()\n",
    "for e in range(1, EPOCHS+1):\n",
    "    epoch_loss = 0\n",
    "    epoch_acc = 0\n",
    "    for X_batch, y_batch in train_loader:\n",
    "        X_batch, y_batch = X_batch.to(device), y_batch.to(device)\n",
    "        optimizer.zero_grad()\n",
    "        \n",
    "        y_pred = model(X_batch)\n",
    "        \n",
    "        loss = criterion(y_pred, y_batch.unsqueeze(1))\n",
    "        acc = binary_acc(y_pred, y_batch.unsqueeze(1))\n",
    "        \n",
    "        loss.backward()\n",
    "        optimizer.step()\n",
    "        \n",
    "        epoch_loss += loss.item()\n",
    "        epoch_acc += acc.item()\n",
    "        \n",
    "\n",
    "    print(f'Epoch {e+0:03}: | Loss: {epoch_loss/len(train_loader):.5f} | Acc: {epoch_acc/len(train_loader):.3f}')"
   ]
  },
  {
   "cell_type": "code",
   "execution_count": 550,
   "metadata": {},
   "outputs": [],
   "source": [
    "y_pred_list = []\n",
    "model.eval()\n",
    "with torch.no_grad():\n",
    "    for X_batch in test_loader:\n",
    "        X_batch = X_batch.to(device)\n",
    "        y_test_pred = model(X_batch)\n",
    "        y_test_pred = torch.sigmoid(y_test_pred)\n",
    "        y_pred_tag = torch.round(y_test_pred)\n",
    "        y_pred_list.append(y_pred_tag.cpu().numpy())\n",
    "\n",
    "y_pred_list = [a.squeeze().tolist() for a in y_pred_list]"
   ]
  },
  {
   "cell_type": "code",
   "execution_count": 551,
   "metadata": {},
   "outputs": [
    {
     "data": {
      "text/plain": [
       "array([[1420,  286],\n",
       "       [ 153, 1555]])"
      ]
     },
     "execution_count": 551,
     "metadata": {},
     "output_type": "execute_result"
    }
   ],
   "source": [
    "confusion_matrix(y_test, y_pred_list)"
   ]
  },
  {
   "cell_type": "code",
   "execution_count": 552,
   "metadata": {},
   "outputs": [
    {
     "name": "stdout",
     "output_type": "stream",
     "text": [
      "              precision    recall  f1-score   support\n",
      "\n",
      "           0       0.90      0.83      0.87      1706\n",
      "           1       0.84      0.91      0.88      1708\n",
      "\n",
      "    accuracy                           0.87      3414\n",
      "   macro avg       0.87      0.87      0.87      3414\n",
      "weighted avg       0.87      0.87      0.87      3414\n",
      "\n"
     ]
    }
   ],
   "source": [
    "print(classification_report(y_test, y_pred_list))"
   ]
  },
  {
   "cell_type": "code",
   "execution_count": 553,
   "metadata": {},
   "outputs": [],
   "source": [
    "y_real_pred_list = []\n",
    "model.eval()\n",
    "\n",
    "with torch.no_grad():\n",
    "    for X_batch in real_test_loader:\n",
    "        X_batch = X_batch.to(device)\n",
    "        y_test_pred = model(X_batch)\n",
    "        y_test_pred = torch.sigmoid(y_test_pred)\n",
    "        y_pred_tag = torch.round(y_test_pred)\n",
    "        y_real_pred_list.append(y_pred_tag.cpu().numpy())\n",
    "\n",
    "y_real_pred_list = [a.squeeze().tolist() for a in y_real_pred_list]"
   ]
  },
  {
   "cell_type": "code",
   "execution_count": 554,
   "metadata": {},
   "outputs": [
    {
     "data": {
      "text/html": [
       "<div>\n",
       "<style scoped>\n",
       "    .dataframe tbody tr th:only-of-type {\n",
       "        vertical-align: middle;\n",
       "    }\n",
       "\n",
       "    .dataframe tbody tr th {\n",
       "        vertical-align: top;\n",
       "    }\n",
       "\n",
       "    .dataframe thead th {\n",
       "        text-align: right;\n",
       "    }\n",
       "</style>\n",
       "<table border=\"1\" class=\"dataframe\">\n",
       "  <thead>\n",
       "    <tr style=\"text-align: right;\">\n",
       "      <th></th>\n",
       "      <th>Sample_ID</th>\n",
       "      <th>Label</th>\n",
       "    </tr>\n",
       "  </thead>\n",
       "  <tbody>\n",
       "    <tr>\n",
       "      <th>0</th>\n",
       "      <td>10865</td>\n",
       "      <td>0.0</td>\n",
       "    </tr>\n",
       "    <tr>\n",
       "      <th>1</th>\n",
       "      <td>10866</td>\n",
       "      <td>0.0</td>\n",
       "    </tr>\n",
       "    <tr>\n",
       "      <th>2</th>\n",
       "      <td>10867</td>\n",
       "      <td>0.0</td>\n",
       "    </tr>\n",
       "    <tr>\n",
       "      <th>3</th>\n",
       "      <td>10868</td>\n",
       "      <td>0.0</td>\n",
       "    </tr>\n",
       "    <tr>\n",
       "      <th>4</th>\n",
       "      <td>10869</td>\n",
       "      <td>1.0</td>\n",
       "    </tr>\n",
       "    <tr>\n",
       "      <th>5</th>\n",
       "      <td>10870</td>\n",
       "      <td>1.0</td>\n",
       "    </tr>\n",
       "    <tr>\n",
       "      <th>6</th>\n",
       "      <td>10871</td>\n",
       "      <td>0.0</td>\n",
       "    </tr>\n",
       "    <tr>\n",
       "      <th>7</th>\n",
       "      <td>10872</td>\n",
       "      <td>0.0</td>\n",
       "    </tr>\n",
       "    <tr>\n",
       "      <th>8</th>\n",
       "      <td>10873</td>\n",
       "      <td>0.0</td>\n",
       "    </tr>\n",
       "    <tr>\n",
       "      <th>9</th>\n",
       "      <td>10874</td>\n",
       "      <td>0.0</td>\n",
       "    </tr>\n",
       "  </tbody>\n",
       "</table>\n",
       "</div>"
      ],
      "text/plain": [
       "   Sample_ID  Label\n",
       "0      10865    0.0\n",
       "1      10866    0.0\n",
       "2      10867    0.0\n",
       "3      10868    0.0\n",
       "4      10869    1.0\n",
       "5      10870    1.0\n",
       "6      10871    0.0\n",
       "7      10872    0.0\n",
       "8      10873    0.0\n",
       "9      10874    0.0"
      ]
     },
     "execution_count": 554,
     "metadata": {},
     "output_type": "execute_result"
    }
   ],
   "source": [
    "# Create a submission file\n",
    "sub_file = pd.DataFrame({'Sample_ID': test.Sample_ID, 'Label': y_real_pred_list})\n",
    "\n",
    "sub_file.head(10)"
   ]
  },
  {
   "cell_type": "code",
   "execution_count": 555,
   "metadata": {},
   "outputs": [
    {
     "data": {
      "image/png": "[encoded data removed]",
      "text/plain": [
       "<Figure size 432x288 with 1 Axes>"
      ]
     },
     "metadata": {
      "needs_background": "light"
     },
     "output_type": "display_data"
    }
   ],
   "source": [
    "# Check the distribution of your predictions\n",
    "sns.countplot(x = sub_file.Label)\n",
    "plt.title('Predicted Variable Distribution');"
   ]
  },
  {
   "cell_type": "code",
   "execution_count": 556,
   "metadata": {},
   "outputs": [
    {
     "data": {
      "text/html": [
       "<div>\n",
       "<style scoped>\n",
       "    .dataframe tbody tr th:only-of-type {\n",
       "        vertical-align: middle;\n",
       "    }\n",
       "\n",
       "    .dataframe tbody tr th {\n",
       "        vertical-align: top;\n",
       "    }\n",
       "\n",
       "    .dataframe thead th {\n",
       "        text-align: right;\n",
       "    }\n",
       "</style>\n",
       "<table border=\"1\" class=\"dataframe\">\n",
       "  <thead>\n",
       "    <tr style=\"text-align: right;\">\n",
       "      <th></th>\n",
       "      <th>Sample_ID</th>\n",
       "      <th>Label</th>\n",
       "    </tr>\n",
       "  </thead>\n",
       "  <tbody>\n",
       "    <tr>\n",
       "      <th>0</th>\n",
       "      <td>10865</td>\n",
       "      <td>0.0</td>\n",
       "    </tr>\n",
       "    <tr>\n",
       "      <th>1</th>\n",
       "      <td>10866</td>\n",
       "      <td>0.0</td>\n",
       "    </tr>\n",
       "    <tr>\n",
       "      <th>2</th>\n",
       "      <td>10867</td>\n",
       "      <td>0.0</td>\n",
       "    </tr>\n",
       "    <tr>\n",
       "      <th>3</th>\n",
       "      <td>10868</td>\n",
       "      <td>0.0</td>\n",
       "    </tr>\n",
       "    <tr>\n",
       "      <th>4</th>\n",
       "      <td>10869</td>\n",
       "      <td>1.0</td>\n",
       "    </tr>\n",
       "  </tbody>\n",
       "</table>\n",
       "</div>"
      ],
      "text/plain": [
       "   Sample_ID  Label\n",
       "0      10865    0.0\n",
       "1      10866    0.0\n",
       "2      10867    0.0\n",
       "3      10868    0.0\n",
       "4      10869    1.0"
      ]
     },
     "execution_count": 556,
     "metadata": {},
     "output_type": "execute_result"
    }
   ],
   "source": [
    "# Create a csv file and upload to zindi \n",
    "sub_file.to_csv('Baseline.csv', index = False)\n",
    "sub_file.head()"
   ]
  },
  {
   "cell_type": "code",
   "execution_count": 645,
   "metadata": {},
   "outputs": [],
   "source": [
    "# Select main columns to be used in training\n",
    "main_cols = train.columns.difference(['Sample_ID', 'Label'])\n",
    "X = train[main_cols]\n",
    "y = train.Label\n",
    "\n",
    "# SMOTE\n",
    "#from imblearn.over_sampling import SMOTE\n",
    "#sm = SMOTE(random_state = 2022)\n",
    "#X, y = sm.fit_resample(X, y.ravel())\n",
    "\n",
    "# UNDERSAMPLE\n",
    "#landslides = train[train.Label == 1]\n",
    "#non_landslides = train[train.Label == 0]\n",
    "#less_non_landslides = non_landslides.sample(n=len(landslides) + 900)\n",
    "#t = pd.concat([less_non_landslides, landslides])\n",
    "\n",
    "#X = t[main_cols]\n",
    "#y = t.Label\n",
    "\n",
    "# OVERSAMPLE\n",
    "landslides = train[train.Label == 1]\n",
    "non_landslides = train[train.Label == 0]\n",
    "\n",
    "t = pd.concat([non_landslides, landslides, landslides, landslides])\n",
    "\n",
    "X = t[main_cols]\n",
    "y = t.Label"
   ]
  },
  {
   "cell_type": "code",
   "execution_count": 646,
   "metadata": {},
   "outputs": [
    {
     "name": "stdout",
     "output_type": "stream",
     "text": [
      "RandomForest F1 score on the X_test is: 0.9194743935309974\n",
      "\n",
      "              precision    recall  f1-score   support\n",
      "\n",
      "           0       0.96      0.86      0.91      2725\n",
      "           1       0.87      0.97      0.92      2816\n",
      "\n",
      "    accuracy                           0.91      5541\n",
      "   macro avg       0.92      0.91      0.91      5541\n",
      "weighted avg       0.92      0.91      0.91      5541\n",
      "\n"
     ]
    }
   ],
   "source": [
    "# Split data into train and test sets\n",
    "X_train, X_test, y_train, y_test = train_test_split(X,y,test_size=0.34, random_state=2022)\n",
    "\n",
    "# Train model\n",
    "model = RandomForestClassifier(n_estimators=450, random_state = 2022, max_features=\"sqrt\")\n",
    "model.fit(X_train, y_train)\n",
    "\n",
    "# Make predictions\n",
    "y_pred = model.predict(X_test)\n",
    "\n",
    "# Check the auc score of the model\n",
    "print(f'RandomForest F1 score on the X_test is: {f1_score(y_test, y_pred)}\\n')\n",
    "\n",
    "# print classification report\n",
    "print(classification_report(y_test, y_pred))"
   ]
  },
  {
   "cell_type": "code",
   "execution_count": 647,
   "metadata": {},
   "outputs": [
    {
     "data": {
      "image/png": "[encoded data removed]",
      "text/plain": [
       "<Figure size 1080x504 with 2 Axes>"
      ]
     },
     "metadata": {
      "needs_background": "light"
     },
     "output_type": "display_data"
    }
   ],
   "source": [
    "# Confusion matrix\n",
    "cm = confusion_matrix(y_test, y_pred, labels=model.classes_)\n",
    "disp = ConfusionMatrixDisplay(confusion_matrix=cm, display_labels=model.classes_)\n",
    "fig, ax = plt.subplots(figsize=(15,7))\n",
    "disp.plot(ax=ax)\n",
    "plt.show()"
   ]
  },
  {
   "cell_type": "code",
   "execution_count": 648,
   "metadata": {},
   "outputs": [
    {
     "data": {
      "image/png": "[encoded data removed]",
      "text/plain": [
       "<Figure size 720x720 with 1 Axes>"
      ]
     },
     "metadata": {
      "needs_background": "light"
     },
     "output_type": "display_data"
    }
   ],
   "source": [
    "# Feature importance\n",
    "impo_df = pd.DataFrame({'feature': X.columns, 'importance': model.feature_importances_}).set_index('feature').sort_values(by = 'importance', ascending = False)\n",
    "impo_df = impo_df.sort_values(by = 'importance', ascending = False)\n",
    "impo_df.plot(kind = 'barh', figsize = (10, 10))\n",
    "plt.legend(loc = 'center right')\n",
    "plt.title('Bar chart showing top ten features', fontsize = 14)\n",
    "plt.xlabel('Features', fontsize = 12, color = 'indigo')\n",
    "plt.show()"
   ]
  },
  {
   "cell_type": "code",
   "execution_count": 649,
   "metadata": {},
   "outputs": [
    {
     "data": {
      "image/png": "[encoded data removed]",
      "text/plain": [
       "<Figure size 432x288 with 1 Axes>"
      ]
     },
     "metadata": {
      "needs_background": "light"
     },
     "output_type": "display_data"
    }
   ],
   "source": [
    "# Make prediction on the test set\n",
    "test_df = test[main_cols]\n",
    "predictions = model.predict(test_df)\n",
    "\n",
    "# Create a submission file\n",
    "sub_file = pd.DataFrame({'Sample_ID': test.Sample_ID, 'Label': predictions})\n",
    "\n",
    "# Check the distribution of your predictions\n",
    "sns.countplot(x = sub_file.Label)\n",
    "plt.title('Predicted Variable Distribution');"
   ]
  },
  {
   "cell_type": "code",
   "execution_count": 650,
   "metadata": {},
   "outputs": [
    {
     "data": {
      "text/html": [
       "<div>\n",
       "<style scoped>\n",
       "    .dataframe tbody tr th:only-of-type {\n",
       "        vertical-align: middle;\n",
       "    }\n",
       "\n",
       "    .dataframe tbody tr th {\n",
       "        vertical-align: top;\n",
       "    }\n",
       "\n",
       "    .dataframe thead th {\n",
       "        text-align: right;\n",
       "    }\n",
       "</style>\n",
       "<table border=\"1\" class=\"dataframe\">\n",
       "  <thead>\n",
       "    <tr style=\"text-align: right;\">\n",
       "      <th></th>\n",
       "      <th>Sample_ID</th>\n",
       "      <th>Label</th>\n",
       "    </tr>\n",
       "  </thead>\n",
       "  <tbody>\n",
       "    <tr>\n",
       "      <th>0</th>\n",
       "      <td>10865</td>\n",
       "      <td>0</td>\n",
       "    </tr>\n",
       "    <tr>\n",
       "      <th>1</th>\n",
       "      <td>10866</td>\n",
       "      <td>0</td>\n",
       "    </tr>\n",
       "    <tr>\n",
       "      <th>2</th>\n",
       "      <td>10867</td>\n",
       "      <td>0</td>\n",
       "    </tr>\n",
       "    <tr>\n",
       "      <th>3</th>\n",
       "      <td>10868</td>\n",
       "      <td>0</td>\n",
       "    </tr>\n",
       "    <tr>\n",
       "      <th>4</th>\n",
       "      <td>10869</td>\n",
       "      <td>1</td>\n",
       "    </tr>\n",
       "  </tbody>\n",
       "</table>\n",
       "</div>"
      ],
      "text/plain": [
       "   Sample_ID  Label\n",
       "0      10865      0\n",
       "1      10866      0\n",
       "2      10867      0\n",
       "3      10868      0\n",
       "4      10869      1"
      ]
     },
     "execution_count": 650,
     "metadata": {},
     "output_type": "execute_result"
    }
   ],
   "source": [
    "# Create a csv file and upload to zindi \n",
    "sub_file.to_csv('Baseline.csv', index = False)\n",
    "sub_file.head()"
   ]
  },
  {
   "cell_type": "code",
   "execution_count": null,
   "metadata": {},
   "outputs": [],
   "source": []
  },
  {
   "cell_type": "code",
   "execution_count": 651,
   "metadata": {},
   "outputs": [],
   "source": [
    "train = pd.read_csv('new_df.csv')\n",
    "test = pd.read_csv('new_test.csv')"
   ]
  },
  {
   "cell_type": "code",
   "execution_count": 662,
   "metadata": {},
   "outputs": [],
   "source": [
    "test.columns = test.columns.str.replace('+', 'p')\n",
    "test.columns = test.columns.str.replace(' ', '_')\n",
    "test.columns = test.columns.str.replace('*', 'x')"
   ]
  },
  {
   "cell_type": "code",
   "execution_count": 663,
   "metadata": {},
   "outputs": [
    {
     "data": {
      "text/plain": [
       "array(['Unnamed:_0', 'ABSOLUTE(placurv)', 'aspect_p_slope_x_twi',\n",
       "       'elevation_p_slope_var', 'elevation_p_slope_x_twi',\n",
       "       'elevation_bins_p_rel_sdoif', 'elevation_bins_p_slope_x_twi',\n",
       "       'elevation_var_p_slope_var', 'geology_p_placurv',\n",
       "       'geology_p_procurv', 'geology_p_rel_sdoif', 'geology_p_sdoif',\n",
       "       'placurv_p_ring1_elevation', 'placurv_p_sdoif',\n",
       "       'procurv_p_ring1_elevation', 'procurv_p_sdoif',\n",
       "       'ring1_elevation_p_sdoif', 'sdoif_p_weathered',\n",
       "       'slope_p_slope_x_twi', 'aspect_x_procurv', 'aspect_x_slope_var',\n",
       "       'aspect_x_slope_x_twi', 'elevation_x_elevation_dif',\n",
       "       'elevation_x_geology', 'elevation_x_sdoif',\n",
       "       'elevation_x_slope_x_twi', 'elevation_bins_x_slope_var',\n",
       "       'elevation_bins_x_slope_x_twi', 'elevation_dif_x_sdoif',\n",
       "       'elevation_var_x_geology', 'elevation_var_x_placurv',\n",
       "       'elevation_var_x_sdoif', 'elevation_var_x_slope_var',\n",
       "       'elevation_var_x_weathered', 'geology_x_sdoif',\n",
       "       'geology_x_slope_x_twi', 'geology_x_weathered',\n",
       "       'placurv_x_slope_var', 'placurv_x_slope_x_twi',\n",
       "       'rel_sdoif_x_ring1_elevation', 'ring1_elevation_x_sdoif',\n",
       "       'ring1_elevation_x_slope_var', 'sdoif_x_slope_x_twi',\n",
       "       'sdoif_x_weathered', 'slope_var_x_weathered',\n",
       "       'NATURAL_LOGARITHM(sdoif_var)', 'SQUARE_ROOT(sdoif_var)',\n",
       "       'Sample_ID'], dtype=object)"
      ]
     },
     "execution_count": 663,
     "metadata": {},
     "output_type": "execute_result"
    }
   ],
   "source": [
    "test.columns.values"
   ]
  },
  {
   "cell_type": "code",
   "execution_count": 664,
   "metadata": {},
   "outputs": [],
   "source": [
    "train.to_csv('joh.csv')"
   ]
  },
  {
   "cell_type": "code",
   "execution_count": 665,
   "metadata": {},
   "outputs": [],
   "source": [
    "test.to_csv('joh_test.csv')"
   ]
  },
  {
   "cell_type": "code",
   "execution_count": null,
   "metadata": {},
   "outputs": [],
   "source": []
  }
 ],
 "metadata": {
  "kernelspec": {
   "display_name": "Python 3",
   "language": "python",
   "name": "python3"
  },
  "language_info": {
   "codemirror_mode": {
    "name": "ipython",
    "version": 3
   },
   "file_extension": ".py",
   "mimetype": "text/x-python",
   "name": "python",
   "nbconvert_exporter": "python",
   "pygments_lexer": "ipython3",
   "version": "3.7.6"
  }
 },
 "nbformat": 4,
 "nbformat_minor": 4
}
